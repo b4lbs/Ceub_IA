{
  "nbformat": 4,
  "nbformat_minor": 0,
  "metadata": {
    "colab": {
      "name": "Ceub_IA.ipynb",
      "provenance": [],
      "authorship_tag": "ABX9TyMbZKF0xtI9OqrMDfUn2075",
      "include_colab_link": true
    },
    "kernelspec": {
      "name": "python3",
      "display_name": "Python 3"
    },
    "language_info": {
      "name": "python"
    }
  },
  "cells": [
    {
      "cell_type": "markdown",
      "metadata": {
        "id": "view-in-github",
        "colab_type": "text"
      },
      "source": [
        "<a href=\"https://colab.research.google.com/github/b4lbs/Ceub_IA/blob/main/Ceub_IA.ipynb\" target=\"_parent\"><img src=\"https://colab.research.google.com/assets/colab-badge.svg\" alt=\"Open In Colab\"/></a>"
      ]
    },
    {
      "cell_type": "markdown",
      "source": [
        "Vamos iniciar o desenvolvimento da árvore de decisão que classificará Iris. Para isso, vamos carregar o arquivo texto iris data para o Python. Vamos utilizar o Pandas"
      ],
      "metadata": {
        "id": "E_V48fBZybok"
      }
    },
    {
      "cell_type": "code",
      "execution_count": 1,
      "metadata": {
        "id": "LID9QJqOueI-"
      },
      "outputs": [],
      "source": [
        "import pandas as pd\n",
        "import sklearn "
      ]
    },
    {
      "cell_type": "code",
      "source": [
        "#Nomeando colunas, por não ter no banco de dados - arquivo csv\n",
        "nomeColunas = ['alturaSepala', 'larguraSepala', 'alturaPetala','larguraPetala','Classe']"
      ],
      "metadata": {
        "id": "ggCp9-YwzJe8"
      },
      "execution_count": 9,
      "outputs": []
    },
    {
      "cell_type": "code",
      "source": [
        "base_iris = pd.read_csv('/content/iris.data', names=nomeColunas)"
      ],
      "metadata": {
        "id": "Zc5JSemRw8bo"
      },
      "execution_count": 11,
      "outputs": []
    },
    {
      "cell_type": "code",
      "source": [
        "base_iris\n"
      ],
      "metadata": {
        "colab": {
          "base_uri": "https://localhost:8080/",
          "height": 424
        },
        "id": "Btm_rcRTxD2Y",
        "outputId": "275dd673-af1e-40b5-8b20-7e2e7983aa95"
      },
      "execution_count": 13,
      "outputs": [
        {
          "output_type": "execute_result",
          "data": {
            "text/plain": [
              "     alturaSepala  larguraSepala  alturaPetala  larguraPetala          Classe\n",
              "0             5.1            3.5           1.4            0.2     Iris-setosa\n",
              "1             4.9            3.0           1.4            0.2     Iris-setosa\n",
              "2             4.7            3.2           1.3            0.2     Iris-setosa\n",
              "3             4.6            3.1           1.5            0.2     Iris-setosa\n",
              "4             5.0            3.6           1.4            0.2     Iris-setosa\n",
              "..            ...            ...           ...            ...             ...\n",
              "145           6.7            3.0           5.2            2.3  Iris-virginica\n",
              "146           6.3            2.5           5.0            1.9  Iris-virginica\n",
              "147           6.5            3.0           5.2            2.0  Iris-virginica\n",
              "148           6.2            3.4           5.4            2.3  Iris-virginica\n",
              "149           5.9            3.0           5.1            1.8  Iris-virginica\n",
              "\n",
              "[150 rows x 5 columns]"
            ],
            "text/html": [
              "\n",
              "  <div id=\"df-ed9c081e-41e1-43a0-b6ab-081b3ed922e8\">\n",
              "    <div class=\"colab-df-container\">\n",
              "      <div>\n",
              "<style scoped>\n",
              "    .dataframe tbody tr th:only-of-type {\n",
              "        vertical-align: middle;\n",
              "    }\n",
              "\n",
              "    .dataframe tbody tr th {\n",
              "        vertical-align: top;\n",
              "    }\n",
              "\n",
              "    .dataframe thead th {\n",
              "        text-align: right;\n",
              "    }\n",
              "</style>\n",
              "<table border=\"1\" class=\"dataframe\">\n",
              "  <thead>\n",
              "    <tr style=\"text-align: right;\">\n",
              "      <th></th>\n",
              "      <th>alturaSepala</th>\n",
              "      <th>larguraSepala</th>\n",
              "      <th>alturaPetala</th>\n",
              "      <th>larguraPetala</th>\n",
              "      <th>Classe</th>\n",
              "    </tr>\n",
              "  </thead>\n",
              "  <tbody>\n",
              "    <tr>\n",
              "      <th>0</th>\n",
              "      <td>5.1</td>\n",
              "      <td>3.5</td>\n",
              "      <td>1.4</td>\n",
              "      <td>0.2</td>\n",
              "      <td>Iris-setosa</td>\n",
              "    </tr>\n",
              "    <tr>\n",
              "      <th>1</th>\n",
              "      <td>4.9</td>\n",
              "      <td>3.0</td>\n",
              "      <td>1.4</td>\n",
              "      <td>0.2</td>\n",
              "      <td>Iris-setosa</td>\n",
              "    </tr>\n",
              "    <tr>\n",
              "      <th>2</th>\n",
              "      <td>4.7</td>\n",
              "      <td>3.2</td>\n",
              "      <td>1.3</td>\n",
              "      <td>0.2</td>\n",
              "      <td>Iris-setosa</td>\n",
              "    </tr>\n",
              "    <tr>\n",
              "      <th>3</th>\n",
              "      <td>4.6</td>\n",
              "      <td>3.1</td>\n",
              "      <td>1.5</td>\n",
              "      <td>0.2</td>\n",
              "      <td>Iris-setosa</td>\n",
              "    </tr>\n",
              "    <tr>\n",
              "      <th>4</th>\n",
              "      <td>5.0</td>\n",
              "      <td>3.6</td>\n",
              "      <td>1.4</td>\n",
              "      <td>0.2</td>\n",
              "      <td>Iris-setosa</td>\n",
              "    </tr>\n",
              "    <tr>\n",
              "      <th>...</th>\n",
              "      <td>...</td>\n",
              "      <td>...</td>\n",
              "      <td>...</td>\n",
              "      <td>...</td>\n",
              "      <td>...</td>\n",
              "    </tr>\n",
              "    <tr>\n",
              "      <th>145</th>\n",
              "      <td>6.7</td>\n",
              "      <td>3.0</td>\n",
              "      <td>5.2</td>\n",
              "      <td>2.3</td>\n",
              "      <td>Iris-virginica</td>\n",
              "    </tr>\n",
              "    <tr>\n",
              "      <th>146</th>\n",
              "      <td>6.3</td>\n",
              "      <td>2.5</td>\n",
              "      <td>5.0</td>\n",
              "      <td>1.9</td>\n",
              "      <td>Iris-virginica</td>\n",
              "    </tr>\n",
              "    <tr>\n",
              "      <th>147</th>\n",
              "      <td>6.5</td>\n",
              "      <td>3.0</td>\n",
              "      <td>5.2</td>\n",
              "      <td>2.0</td>\n",
              "      <td>Iris-virginica</td>\n",
              "    </tr>\n",
              "    <tr>\n",
              "      <th>148</th>\n",
              "      <td>6.2</td>\n",
              "      <td>3.4</td>\n",
              "      <td>5.4</td>\n",
              "      <td>2.3</td>\n",
              "      <td>Iris-virginica</td>\n",
              "    </tr>\n",
              "    <tr>\n",
              "      <th>149</th>\n",
              "      <td>5.9</td>\n",
              "      <td>3.0</td>\n",
              "      <td>5.1</td>\n",
              "      <td>1.8</td>\n",
              "      <td>Iris-virginica</td>\n",
              "    </tr>\n",
              "  </tbody>\n",
              "</table>\n",
              "<p>150 rows × 5 columns</p>\n",
              "</div>\n",
              "      <button class=\"colab-df-convert\" onclick=\"convertToInteractive('df-ed9c081e-41e1-43a0-b6ab-081b3ed922e8')\"\n",
              "              title=\"Convert this dataframe to an interactive table.\"\n",
              "              style=\"display:none;\">\n",
              "        \n",
              "  <svg xmlns=\"http://www.w3.org/2000/svg\" height=\"24px\"viewBox=\"0 0 24 24\"\n",
              "       width=\"24px\">\n",
              "    <path d=\"M0 0h24v24H0V0z\" fill=\"none\"/>\n",
              "    <path d=\"M18.56 5.44l.94 2.06.94-2.06 2.06-.94-2.06-.94-.94-2.06-.94 2.06-2.06.94zm-11 1L8.5 8.5l.94-2.06 2.06-.94-2.06-.94L8.5 2.5l-.94 2.06-2.06.94zm10 10l.94 2.06.94-2.06 2.06-.94-2.06-.94-.94-2.06-.94 2.06-2.06.94z\"/><path d=\"M17.41 7.96l-1.37-1.37c-.4-.4-.92-.59-1.43-.59-.52 0-1.04.2-1.43.59L10.3 9.45l-7.72 7.72c-.78.78-.78 2.05 0 2.83L4 21.41c.39.39.9.59 1.41.59.51 0 1.02-.2 1.41-.59l7.78-7.78 2.81-2.81c.8-.78.8-2.07 0-2.86zM5.41 20L4 18.59l7.72-7.72 1.47 1.35L5.41 20z\"/>\n",
              "  </svg>\n",
              "      </button>\n",
              "      \n",
              "  <style>\n",
              "    .colab-df-container {\n",
              "      display:flex;\n",
              "      flex-wrap:wrap;\n",
              "      gap: 12px;\n",
              "    }\n",
              "\n",
              "    .colab-df-convert {\n",
              "      background-color: #E8F0FE;\n",
              "      border: none;\n",
              "      border-radius: 50%;\n",
              "      cursor: pointer;\n",
              "      display: none;\n",
              "      fill: #1967D2;\n",
              "      height: 32px;\n",
              "      padding: 0 0 0 0;\n",
              "      width: 32px;\n",
              "    }\n",
              "\n",
              "    .colab-df-convert:hover {\n",
              "      background-color: #E2EBFA;\n",
              "      box-shadow: 0px 1px 2px rgba(60, 64, 67, 0.3), 0px 1px 3px 1px rgba(60, 64, 67, 0.15);\n",
              "      fill: #174EA6;\n",
              "    }\n",
              "\n",
              "    [theme=dark] .colab-df-convert {\n",
              "      background-color: #3B4455;\n",
              "      fill: #D2E3FC;\n",
              "    }\n",
              "\n",
              "    [theme=dark] .colab-df-convert:hover {\n",
              "      background-color: #434B5C;\n",
              "      box-shadow: 0px 1px 3px 1px rgba(0, 0, 0, 0.15);\n",
              "      filter: drop-shadow(0px 1px 2px rgba(0, 0, 0, 0.3));\n",
              "      fill: #FFFFFF;\n",
              "    }\n",
              "  </style>\n",
              "\n",
              "      <script>\n",
              "        const buttonEl =\n",
              "          document.querySelector('#df-ed9c081e-41e1-43a0-b6ab-081b3ed922e8 button.colab-df-convert');\n",
              "        buttonEl.style.display =\n",
              "          google.colab.kernel.accessAllowed ? 'block' : 'none';\n",
              "\n",
              "        async function convertToInteractive(key) {\n",
              "          const element = document.querySelector('#df-ed9c081e-41e1-43a0-b6ab-081b3ed922e8');\n",
              "          const dataTable =\n",
              "            await google.colab.kernel.invokeFunction('convertToInteractive',\n",
              "                                                     [key], {});\n",
              "          if (!dataTable) return;\n",
              "\n",
              "          const docLinkHtml = 'Like what you see? Visit the ' +\n",
              "            '<a target=\"_blank\" href=https://colab.research.google.com/notebooks/data_table.ipynb>data table notebook</a>'\n",
              "            + ' to learn more about interactive tables.';\n",
              "          element.innerHTML = '';\n",
              "          dataTable['output_type'] = 'display_data';\n",
              "          await google.colab.output.renderOutput(dataTable, element);\n",
              "          const docLink = document.createElement('div');\n",
              "          docLink.innerHTML = docLinkHtml;\n",
              "          element.appendChild(docLink);\n",
              "        }\n",
              "      </script>\n",
              "    </div>\n",
              "  </div>\n",
              "  "
            ]
          },
          "metadata": {},
          "execution_count": 13
        }
      ]
    },
    {
      "cell_type": "code",
      "source": [
        "print(f'Quantidade de linhas: {len(base_iris)}')\n",
        "print(f'Quantidade de colunas: {len(base_iris.columns)}')"
      ],
      "metadata": {
        "colab": {
          "base_uri": "https://localhost:8080/"
        },
        "id": "Ui0XSIKy0oia",
        "outputId": "292f1104-4ca8-427a-80b6-05f75df8bd4b"
      },
      "execution_count": 14,
      "outputs": [
        {
          "output_type": "stream",
          "name": "stdout",
          "text": [
            "Quantidade de linhas: 150\n",
            "Quantidade de colunas: 5\n"
          ]
        }
      ]
    },
    {
      "cell_type": "code",
      "source": [
        "base_iris.head()"
      ],
      "metadata": {
        "colab": {
          "base_uri": "https://localhost:8080/",
          "height": 206
        },
        "id": "bJXx3cT30_vh",
        "outputId": "9cbfab0f-564f-42b3-a9c1-c59a1d50fd3c"
      },
      "execution_count": 15,
      "outputs": [
        {
          "output_type": "execute_result",
          "data": {
            "text/plain": [
              "   alturaSepala  larguraSepala  alturaPetala  larguraPetala       Classe\n",
              "0           5.1            3.5           1.4            0.2  Iris-setosa\n",
              "1           4.9            3.0           1.4            0.2  Iris-setosa\n",
              "2           4.7            3.2           1.3            0.2  Iris-setosa\n",
              "3           4.6            3.1           1.5            0.2  Iris-setosa\n",
              "4           5.0            3.6           1.4            0.2  Iris-setosa"
            ],
            "text/html": [
              "\n",
              "  <div id=\"df-7dd409e6-f4a8-4077-9a78-241565290767\">\n",
              "    <div class=\"colab-df-container\">\n",
              "      <div>\n",
              "<style scoped>\n",
              "    .dataframe tbody tr th:only-of-type {\n",
              "        vertical-align: middle;\n",
              "    }\n",
              "\n",
              "    .dataframe tbody tr th {\n",
              "        vertical-align: top;\n",
              "    }\n",
              "\n",
              "    .dataframe thead th {\n",
              "        text-align: right;\n",
              "    }\n",
              "</style>\n",
              "<table border=\"1\" class=\"dataframe\">\n",
              "  <thead>\n",
              "    <tr style=\"text-align: right;\">\n",
              "      <th></th>\n",
              "      <th>alturaSepala</th>\n",
              "      <th>larguraSepala</th>\n",
              "      <th>alturaPetala</th>\n",
              "      <th>larguraPetala</th>\n",
              "      <th>Classe</th>\n",
              "    </tr>\n",
              "  </thead>\n",
              "  <tbody>\n",
              "    <tr>\n",
              "      <th>0</th>\n",
              "      <td>5.1</td>\n",
              "      <td>3.5</td>\n",
              "      <td>1.4</td>\n",
              "      <td>0.2</td>\n",
              "      <td>Iris-setosa</td>\n",
              "    </tr>\n",
              "    <tr>\n",
              "      <th>1</th>\n",
              "      <td>4.9</td>\n",
              "      <td>3.0</td>\n",
              "      <td>1.4</td>\n",
              "      <td>0.2</td>\n",
              "      <td>Iris-setosa</td>\n",
              "    </tr>\n",
              "    <tr>\n",
              "      <th>2</th>\n",
              "      <td>4.7</td>\n",
              "      <td>3.2</td>\n",
              "      <td>1.3</td>\n",
              "      <td>0.2</td>\n",
              "      <td>Iris-setosa</td>\n",
              "    </tr>\n",
              "    <tr>\n",
              "      <th>3</th>\n",
              "      <td>4.6</td>\n",
              "      <td>3.1</td>\n",
              "      <td>1.5</td>\n",
              "      <td>0.2</td>\n",
              "      <td>Iris-setosa</td>\n",
              "    </tr>\n",
              "    <tr>\n",
              "      <th>4</th>\n",
              "      <td>5.0</td>\n",
              "      <td>3.6</td>\n",
              "      <td>1.4</td>\n",
              "      <td>0.2</td>\n",
              "      <td>Iris-setosa</td>\n",
              "    </tr>\n",
              "  </tbody>\n",
              "</table>\n",
              "</div>\n",
              "      <button class=\"colab-df-convert\" onclick=\"convertToInteractive('df-7dd409e6-f4a8-4077-9a78-241565290767')\"\n",
              "              title=\"Convert this dataframe to an interactive table.\"\n",
              "              style=\"display:none;\">\n",
              "        \n",
              "  <svg xmlns=\"http://www.w3.org/2000/svg\" height=\"24px\"viewBox=\"0 0 24 24\"\n",
              "       width=\"24px\">\n",
              "    <path d=\"M0 0h24v24H0V0z\" fill=\"none\"/>\n",
              "    <path d=\"M18.56 5.44l.94 2.06.94-2.06 2.06-.94-2.06-.94-.94-2.06-.94 2.06-2.06.94zm-11 1L8.5 8.5l.94-2.06 2.06-.94-2.06-.94L8.5 2.5l-.94 2.06-2.06.94zm10 10l.94 2.06.94-2.06 2.06-.94-2.06-.94-.94-2.06-.94 2.06-2.06.94z\"/><path d=\"M17.41 7.96l-1.37-1.37c-.4-.4-.92-.59-1.43-.59-.52 0-1.04.2-1.43.59L10.3 9.45l-7.72 7.72c-.78.78-.78 2.05 0 2.83L4 21.41c.39.39.9.59 1.41.59.51 0 1.02-.2 1.41-.59l7.78-7.78 2.81-2.81c.8-.78.8-2.07 0-2.86zM5.41 20L4 18.59l7.72-7.72 1.47 1.35L5.41 20z\"/>\n",
              "  </svg>\n",
              "      </button>\n",
              "      \n",
              "  <style>\n",
              "    .colab-df-container {\n",
              "      display:flex;\n",
              "      flex-wrap:wrap;\n",
              "      gap: 12px;\n",
              "    }\n",
              "\n",
              "    .colab-df-convert {\n",
              "      background-color: #E8F0FE;\n",
              "      border: none;\n",
              "      border-radius: 50%;\n",
              "      cursor: pointer;\n",
              "      display: none;\n",
              "      fill: #1967D2;\n",
              "      height: 32px;\n",
              "      padding: 0 0 0 0;\n",
              "      width: 32px;\n",
              "    }\n",
              "\n",
              "    .colab-df-convert:hover {\n",
              "      background-color: #E2EBFA;\n",
              "      box-shadow: 0px 1px 2px rgba(60, 64, 67, 0.3), 0px 1px 3px 1px rgba(60, 64, 67, 0.15);\n",
              "      fill: #174EA6;\n",
              "    }\n",
              "\n",
              "    [theme=dark] .colab-df-convert {\n",
              "      background-color: #3B4455;\n",
              "      fill: #D2E3FC;\n",
              "    }\n",
              "\n",
              "    [theme=dark] .colab-df-convert:hover {\n",
              "      background-color: #434B5C;\n",
              "      box-shadow: 0px 1px 3px 1px rgba(0, 0, 0, 0.15);\n",
              "      filter: drop-shadow(0px 1px 2px rgba(0, 0, 0, 0.3));\n",
              "      fill: #FFFFFF;\n",
              "    }\n",
              "  </style>\n",
              "\n",
              "      <script>\n",
              "        const buttonEl =\n",
              "          document.querySelector('#df-7dd409e6-f4a8-4077-9a78-241565290767 button.colab-df-convert');\n",
              "        buttonEl.style.display =\n",
              "          google.colab.kernel.accessAllowed ? 'block' : 'none';\n",
              "\n",
              "        async function convertToInteractive(key) {\n",
              "          const element = document.querySelector('#df-7dd409e6-f4a8-4077-9a78-241565290767');\n",
              "          const dataTable =\n",
              "            await google.colab.kernel.invokeFunction('convertToInteractive',\n",
              "                                                     [key], {});\n",
              "          if (!dataTable) return;\n",
              "\n",
              "          const docLinkHtml = 'Like what you see? Visit the ' +\n",
              "            '<a target=\"_blank\" href=https://colab.research.google.com/notebooks/data_table.ipynb>data table notebook</a>'\n",
              "            + ' to learn more about interactive tables.';\n",
              "          element.innerHTML = '';\n",
              "          dataTable['output_type'] = 'display_data';\n",
              "          await google.colab.output.renderOutput(dataTable, element);\n",
              "          const docLink = document.createElement('div');\n",
              "          docLink.innerHTML = docLinkHtml;\n",
              "          element.appendChild(docLink);\n",
              "        }\n",
              "      </script>\n",
              "    </div>\n",
              "  </div>\n",
              "  "
            ]
          },
          "metadata": {},
          "execution_count": 15
        }
      ]
    },
    {
      "cell_type": "code",
      "source": [
        "base_iris.tail(15)"
      ],
      "metadata": {
        "colab": {
          "base_uri": "https://localhost:8080/",
          "height": 520
        },
        "id": "m8Jz9rpp1ehx",
        "outputId": "5c507f9c-b626-4161-c719-aa76dcf757f3"
      },
      "execution_count": 16,
      "outputs": [
        {
          "output_type": "execute_result",
          "data": {
            "text/plain": [
              "     alturaSepala  larguraSepala  alturaPetala  larguraPetala          Classe\n",
              "135           7.7            3.0           6.1            2.3  Iris-virginica\n",
              "136           6.3            3.4           5.6            2.4  Iris-virginica\n",
              "137           6.4            3.1           5.5            1.8  Iris-virginica\n",
              "138           6.0            3.0           4.8            1.8  Iris-virginica\n",
              "139           6.9            3.1           5.4            2.1  Iris-virginica\n",
              "140           6.7            3.1           5.6            2.4  Iris-virginica\n",
              "141           6.9            3.1           5.1            2.3  Iris-virginica\n",
              "142           5.8            2.7           5.1            1.9  Iris-virginica\n",
              "143           6.8            3.2           5.9            2.3  Iris-virginica\n",
              "144           6.7            3.3           5.7            2.5  Iris-virginica\n",
              "145           6.7            3.0           5.2            2.3  Iris-virginica\n",
              "146           6.3            2.5           5.0            1.9  Iris-virginica\n",
              "147           6.5            3.0           5.2            2.0  Iris-virginica\n",
              "148           6.2            3.4           5.4            2.3  Iris-virginica\n",
              "149           5.9            3.0           5.1            1.8  Iris-virginica"
            ],
            "text/html": [
              "\n",
              "  <div id=\"df-4a67c68c-cdbf-4c6c-a394-b9aa913d504b\">\n",
              "    <div class=\"colab-df-container\">\n",
              "      <div>\n",
              "<style scoped>\n",
              "    .dataframe tbody tr th:only-of-type {\n",
              "        vertical-align: middle;\n",
              "    }\n",
              "\n",
              "    .dataframe tbody tr th {\n",
              "        vertical-align: top;\n",
              "    }\n",
              "\n",
              "    .dataframe thead th {\n",
              "        text-align: right;\n",
              "    }\n",
              "</style>\n",
              "<table border=\"1\" class=\"dataframe\">\n",
              "  <thead>\n",
              "    <tr style=\"text-align: right;\">\n",
              "      <th></th>\n",
              "      <th>alturaSepala</th>\n",
              "      <th>larguraSepala</th>\n",
              "      <th>alturaPetala</th>\n",
              "      <th>larguraPetala</th>\n",
              "      <th>Classe</th>\n",
              "    </tr>\n",
              "  </thead>\n",
              "  <tbody>\n",
              "    <tr>\n",
              "      <th>135</th>\n",
              "      <td>7.7</td>\n",
              "      <td>3.0</td>\n",
              "      <td>6.1</td>\n",
              "      <td>2.3</td>\n",
              "      <td>Iris-virginica</td>\n",
              "    </tr>\n",
              "    <tr>\n",
              "      <th>136</th>\n",
              "      <td>6.3</td>\n",
              "      <td>3.4</td>\n",
              "      <td>5.6</td>\n",
              "      <td>2.4</td>\n",
              "      <td>Iris-virginica</td>\n",
              "    </tr>\n",
              "    <tr>\n",
              "      <th>137</th>\n",
              "      <td>6.4</td>\n",
              "      <td>3.1</td>\n",
              "      <td>5.5</td>\n",
              "      <td>1.8</td>\n",
              "      <td>Iris-virginica</td>\n",
              "    </tr>\n",
              "    <tr>\n",
              "      <th>138</th>\n",
              "      <td>6.0</td>\n",
              "      <td>3.0</td>\n",
              "      <td>4.8</td>\n",
              "      <td>1.8</td>\n",
              "      <td>Iris-virginica</td>\n",
              "    </tr>\n",
              "    <tr>\n",
              "      <th>139</th>\n",
              "      <td>6.9</td>\n",
              "      <td>3.1</td>\n",
              "      <td>5.4</td>\n",
              "      <td>2.1</td>\n",
              "      <td>Iris-virginica</td>\n",
              "    </tr>\n",
              "    <tr>\n",
              "      <th>140</th>\n",
              "      <td>6.7</td>\n",
              "      <td>3.1</td>\n",
              "      <td>5.6</td>\n",
              "      <td>2.4</td>\n",
              "      <td>Iris-virginica</td>\n",
              "    </tr>\n",
              "    <tr>\n",
              "      <th>141</th>\n",
              "      <td>6.9</td>\n",
              "      <td>3.1</td>\n",
              "      <td>5.1</td>\n",
              "      <td>2.3</td>\n",
              "      <td>Iris-virginica</td>\n",
              "    </tr>\n",
              "    <tr>\n",
              "      <th>142</th>\n",
              "      <td>5.8</td>\n",
              "      <td>2.7</td>\n",
              "      <td>5.1</td>\n",
              "      <td>1.9</td>\n",
              "      <td>Iris-virginica</td>\n",
              "    </tr>\n",
              "    <tr>\n",
              "      <th>143</th>\n",
              "      <td>6.8</td>\n",
              "      <td>3.2</td>\n",
              "      <td>5.9</td>\n",
              "      <td>2.3</td>\n",
              "      <td>Iris-virginica</td>\n",
              "    </tr>\n",
              "    <tr>\n",
              "      <th>144</th>\n",
              "      <td>6.7</td>\n",
              "      <td>3.3</td>\n",
              "      <td>5.7</td>\n",
              "      <td>2.5</td>\n",
              "      <td>Iris-virginica</td>\n",
              "    </tr>\n",
              "    <tr>\n",
              "      <th>145</th>\n",
              "      <td>6.7</td>\n",
              "      <td>3.0</td>\n",
              "      <td>5.2</td>\n",
              "      <td>2.3</td>\n",
              "      <td>Iris-virginica</td>\n",
              "    </tr>\n",
              "    <tr>\n",
              "      <th>146</th>\n",
              "      <td>6.3</td>\n",
              "      <td>2.5</td>\n",
              "      <td>5.0</td>\n",
              "      <td>1.9</td>\n",
              "      <td>Iris-virginica</td>\n",
              "    </tr>\n",
              "    <tr>\n",
              "      <th>147</th>\n",
              "      <td>6.5</td>\n",
              "      <td>3.0</td>\n",
              "      <td>5.2</td>\n",
              "      <td>2.0</td>\n",
              "      <td>Iris-virginica</td>\n",
              "    </tr>\n",
              "    <tr>\n",
              "      <th>148</th>\n",
              "      <td>6.2</td>\n",
              "      <td>3.4</td>\n",
              "      <td>5.4</td>\n",
              "      <td>2.3</td>\n",
              "      <td>Iris-virginica</td>\n",
              "    </tr>\n",
              "    <tr>\n",
              "      <th>149</th>\n",
              "      <td>5.9</td>\n",
              "      <td>3.0</td>\n",
              "      <td>5.1</td>\n",
              "      <td>1.8</td>\n",
              "      <td>Iris-virginica</td>\n",
              "    </tr>\n",
              "  </tbody>\n",
              "</table>\n",
              "</div>\n",
              "      <button class=\"colab-df-convert\" onclick=\"convertToInteractive('df-4a67c68c-cdbf-4c6c-a394-b9aa913d504b')\"\n",
              "              title=\"Convert this dataframe to an interactive table.\"\n",
              "              style=\"display:none;\">\n",
              "        \n",
              "  <svg xmlns=\"http://www.w3.org/2000/svg\" height=\"24px\"viewBox=\"0 0 24 24\"\n",
              "       width=\"24px\">\n",
              "    <path d=\"M0 0h24v24H0V0z\" fill=\"none\"/>\n",
              "    <path d=\"M18.56 5.44l.94 2.06.94-2.06 2.06-.94-2.06-.94-.94-2.06-.94 2.06-2.06.94zm-11 1L8.5 8.5l.94-2.06 2.06-.94-2.06-.94L8.5 2.5l-.94 2.06-2.06.94zm10 10l.94 2.06.94-2.06 2.06-.94-2.06-.94-.94-2.06-.94 2.06-2.06.94z\"/><path d=\"M17.41 7.96l-1.37-1.37c-.4-.4-.92-.59-1.43-.59-.52 0-1.04.2-1.43.59L10.3 9.45l-7.72 7.72c-.78.78-.78 2.05 0 2.83L4 21.41c.39.39.9.59 1.41.59.51 0 1.02-.2 1.41-.59l7.78-7.78 2.81-2.81c.8-.78.8-2.07 0-2.86zM5.41 20L4 18.59l7.72-7.72 1.47 1.35L5.41 20z\"/>\n",
              "  </svg>\n",
              "      </button>\n",
              "      \n",
              "  <style>\n",
              "    .colab-df-container {\n",
              "      display:flex;\n",
              "      flex-wrap:wrap;\n",
              "      gap: 12px;\n",
              "    }\n",
              "\n",
              "    .colab-df-convert {\n",
              "      background-color: #E8F0FE;\n",
              "      border: none;\n",
              "      border-radius: 50%;\n",
              "      cursor: pointer;\n",
              "      display: none;\n",
              "      fill: #1967D2;\n",
              "      height: 32px;\n",
              "      padding: 0 0 0 0;\n",
              "      width: 32px;\n",
              "    }\n",
              "\n",
              "    .colab-df-convert:hover {\n",
              "      background-color: #E2EBFA;\n",
              "      box-shadow: 0px 1px 2px rgba(60, 64, 67, 0.3), 0px 1px 3px 1px rgba(60, 64, 67, 0.15);\n",
              "      fill: #174EA6;\n",
              "    }\n",
              "\n",
              "    [theme=dark] .colab-df-convert {\n",
              "      background-color: #3B4455;\n",
              "      fill: #D2E3FC;\n",
              "    }\n",
              "\n",
              "    [theme=dark] .colab-df-convert:hover {\n",
              "      background-color: #434B5C;\n",
              "      box-shadow: 0px 1px 3px 1px rgba(0, 0, 0, 0.15);\n",
              "      filter: drop-shadow(0px 1px 2px rgba(0, 0, 0, 0.3));\n",
              "      fill: #FFFFFF;\n",
              "    }\n",
              "  </style>\n",
              "\n",
              "      <script>\n",
              "        const buttonEl =\n",
              "          document.querySelector('#df-4a67c68c-cdbf-4c6c-a394-b9aa913d504b button.colab-df-convert');\n",
              "        buttonEl.style.display =\n",
              "          google.colab.kernel.accessAllowed ? 'block' : 'none';\n",
              "\n",
              "        async function convertToInteractive(key) {\n",
              "          const element = document.querySelector('#df-4a67c68c-cdbf-4c6c-a394-b9aa913d504b');\n",
              "          const dataTable =\n",
              "            await google.colab.kernel.invokeFunction('convertToInteractive',\n",
              "                                                     [key], {});\n",
              "          if (!dataTable) return;\n",
              "\n",
              "          const docLinkHtml = 'Like what you see? Visit the ' +\n",
              "            '<a target=\"_blank\" href=https://colab.research.google.com/notebooks/data_table.ipynb>data table notebook</a>'\n",
              "            + ' to learn more about interactive tables.';\n",
              "          element.innerHTML = '';\n",
              "          dataTable['output_type'] = 'display_data';\n",
              "          await google.colab.output.renderOutput(dataTable, element);\n",
              "          const docLink = document.createElement('div');\n",
              "          docLink.innerHTML = docLinkHtml;\n",
              "          element.appendChild(docLink);\n",
              "        }\n",
              "      </script>\n",
              "    </div>\n",
              "  </div>\n",
              "  "
            ]
          },
          "metadata": {},
          "execution_count": 16
        }
      ]
    },
    {
      "cell_type": "code",
      "source": [
        "base_iris['Classe'].value_counts()"
      ],
      "metadata": {
        "colab": {
          "base_uri": "https://localhost:8080/"
        },
        "id": "2ZFKzTT51zoD",
        "outputId": "32c4bd24-6ed4-4acd-b85e-a527ff9991ab"
      },
      "execution_count": 17,
      "outputs": [
        {
          "output_type": "execute_result",
          "data": {
            "text/plain": [
              "Iris-setosa        50\n",
              "Iris-versicolor    50\n",
              "Iris-virginica     50\n",
              "Name: Classe, dtype: int64"
            ]
          },
          "metadata": {},
          "execution_count": 17
        }
      ]
    },
    {
      "cell_type": "code",
      "source": [
        "base_iris['Classe'].value_counts().plot(kind='pie');"
      ],
      "metadata": {
        "colab": {
          "base_uri": "https://localhost:8080/",
          "height": 248
        },
        "id": "7-WofCF22Yrn",
        "outputId": "31cbafaa-b41c-43c6-8b5e-b80b5cbbe3f6"
      },
      "execution_count": 21,
      "outputs": [
        {
          "output_type": "display_data",
          "data": {
            "text/plain": [
              "<Figure size 432x288 with 1 Axes>"
            ],
            "image/png": "[encoded data removed]"
          },
          "metadata": {}
        }
      ]
    },
    {
      "cell_type": "code",
      "source": [
        "base_iris['Classe'].value_counts().plot(kind='bar');"
      ],
      "metadata": {
        "colab": {
          "base_uri": "https://localhost:8080/",
          "height": 323
        },
        "id": "y94tLdEX21Pp",
        "outputId": "4dfcd2a1-8413-43ec-b9c0-1961180da2f0"
      },
      "execution_count": 22,
      "outputs": [
        {
          "output_type": "display_data",
          "data": {
            "text/plain": [
              "<Figure size 432x288 with 1 Axes>"
            ],
            "image/png": "[encoded data removed]"
          },
          "metadata": {
            "needs_background": "light"
          }
        }
      ]
    },
    {
      "cell_type": "code",
      "source": [
        "print(f\"Menor valor da coluna Sepala: {base_iris['alturaSepala'].min()}\")"
      ],
      "metadata": {
        "colab": {
          "base_uri": "https://localhost:8080/"
        },
        "id": "4mQmC7DG4vqm",
        "outputId": "dc856a0d-af7b-47dc-80d6-d6f9ae4b17dd"
      },
      "execution_count": 28,
      "outputs": [
        {
          "output_type": "stream",
          "name": "stdout",
          "text": [
            "Menor valor da coluna Sepala: 4.3\n"
          ]
        }
      ]
    },
    {
      "cell_type": "code",
      "source": [
        "print(f\"Maior valor da coluna Sepala: {base_iris['alturaSepala'].max()}\")"
      ],
      "metadata": {
        "colab": {
          "base_uri": "https://localhost:8080/"
        },
        "id": "wBLuh6Kv5k6w",
        "outputId": "57414b7d-a125-4ccc-ad93-9cc48d8ebff8"
      },
      "execution_count": 29,
      "outputs": [
        {
          "output_type": "stream",
          "name": "stdout",
          "text": [
            "Maior valor da coluna Sepala: 7.9\n"
          ]
        }
      ]
    },
    {
      "cell_type": "code",
      "source": [
        "#Adicionando colunas área Sepala e área Petala\n",
        "base_iris['areaSepala'] = base_iris['alturaSepala'] * base_iris['larguraSepala']"
      ],
      "metadata": {
        "id": "FGR8Ufhy5wFf"
      },
      "execution_count": 30,
      "outputs": []
    },
    {
      "cell_type": "code",
      "source": [
        "base_iris['areaPetala'] = base_iris['alturaPetala'] * base_iris['larguraPetala']"
      ],
      "metadata": {
        "id": "T_GnLeBT6MwQ"
      },
      "execution_count": 31,
      "outputs": []
    },
    {
      "cell_type": "code",
      "source": [
        "base_iris.head()"
      ],
      "metadata": {
        "colab": {
          "base_uri": "https://localhost:8080/",
          "height": 206
        },
        "id": "A78__-tc6WDs",
        "outputId": "d629a603-4673-4ac9-a76c-00a42e3d1a62"
      },
      "execution_count": 32,
      "outputs": [
        {
          "output_type": "execute_result",
          "data": {
            "text/plain": [
              "   alturaSepala  larguraSepala  alturaPetala  larguraPetala       Classe  \\\n",
              "0           5.1            3.5           1.4            0.2  Iris-setosa   \n",
              "1           4.9            3.0           1.4            0.2  Iris-setosa   \n",
              "2           4.7            3.2           1.3            0.2  Iris-setosa   \n",
              "3           4.6            3.1           1.5            0.2  Iris-setosa   \n",
              "4           5.0            3.6           1.4            0.2  Iris-setosa   \n",
              "\n",
              "   areaSepala  areaPetala  \n",
              "0       17.85        0.28  \n",
              "1       14.70        0.28  \n",
              "2       15.04        0.26  \n",
              "3       14.26        0.30  \n",
              "4       18.00        0.28  "
            ],
            "text/html": [
              "\n",
              "  <div id=\"df-f376ef3c-677e-4e5a-b1b1-f42198dd40e2\">\n",
              "    <div class=\"colab-df-container\">\n",
              "      <div>\n",
              "<style scoped>\n",
              "    .dataframe tbody tr th:only-of-type {\n",
              "        vertical-align: middle;\n",
              "    }\n",
              "\n",
              "    .dataframe tbody tr th {\n",
              "        vertical-align: top;\n",
              "    }\n",
              "\n",
              "    .dataframe thead th {\n",
              "        text-align: right;\n",
              "    }\n",
              "</style>\n",
              "<table border=\"1\" class=\"dataframe\">\n",
              "  <thead>\n",
              "    <tr style=\"text-align: right;\">\n",
              "      <th></th>\n",
              "      <th>alturaSepala</th>\n",
              "      <th>larguraSepala</th>\n",
              "      <th>alturaPetala</th>\n",
              "      <th>larguraPetala</th>\n",
              "      <th>Classe</th>\n",
              "      <th>areaSepala</th>\n",
              "      <th>areaPetala</th>\n",
              "    </tr>\n",
              "  </thead>\n",
              "  <tbody>\n",
              "    <tr>\n",
              "      <th>0</th>\n",
              "      <td>5.1</td>\n",
              "      <td>3.5</td>\n",
              "      <td>1.4</td>\n",
              "      <td>0.2</td>\n",
              "      <td>Iris-setosa</td>\n",
              "      <td>17.85</td>\n",
              "      <td>0.28</td>\n",
              "    </tr>\n",
              "    <tr>\n",
              "      <th>1</th>\n",
              "      <td>4.9</td>\n",
              "      <td>3.0</td>\n",
              "      <td>1.4</td>\n",
              "      <td>0.2</td>\n",
              "      <td>Iris-setosa</td>\n",
              "      <td>14.70</td>\n",
              "      <td>0.28</td>\n",
              "    </tr>\n",
              "    <tr>\n",
              "      <th>2</th>\n",
              "      <td>4.7</td>\n",
              "      <td>3.2</td>\n",
              "      <td>1.3</td>\n",
              "      <td>0.2</td>\n",
              "      <td>Iris-setosa</td>\n",
              "      <td>15.04</td>\n",
              "      <td>0.26</td>\n",
              "    </tr>\n",
              "    <tr>\n",
              "      <th>3</th>\n",
              "      <td>4.6</td>\n",
              "      <td>3.1</td>\n",
              "      <td>1.5</td>\n",
              "      <td>0.2</td>\n",
              "      <td>Iris-setosa</td>\n",
              "      <td>14.26</td>\n",
              "      <td>0.30</td>\n",
              "    </tr>\n",
              "    <tr>\n",
              "      <th>4</th>\n",
              "      <td>5.0</td>\n",
              "      <td>3.6</td>\n",
              "      <td>1.4</td>\n",
              "      <td>0.2</td>\n",
              "      <td>Iris-setosa</td>\n",
              "      <td>18.00</td>\n",
              "      <td>0.28</td>\n",
              "    </tr>\n",
              "  </tbody>\n",
              "</table>\n",
              "</div>\n",
              "      <button class=\"colab-df-convert\" onclick=\"convertToInteractive('df-f376ef3c-677e-4e5a-b1b1-f42198dd40e2')\"\n",
              "              title=\"Convert this dataframe to an interactive table.\"\n",
              "              style=\"display:none;\">\n",
              "        \n",
              "  <svg xmlns=\"http://www.w3.org/2000/svg\" height=\"24px\"viewBox=\"0 0 24 24\"\n",
              "       width=\"24px\">\n",
              "    <path d=\"M0 0h24v24H0V0z\" fill=\"none\"/>\n",
              "    <path d=\"M18.56 5.44l.94 2.06.94-2.06 2.06-.94-2.06-.94-.94-2.06-.94 2.06-2.06.94zm-11 1L8.5 8.5l.94-2.06 2.06-.94-2.06-.94L8.5 2.5l-.94 2.06-2.06.94zm10 10l.94 2.06.94-2.06 2.06-.94-2.06-.94-.94-2.06-.94 2.06-2.06.94z\"/><path d=\"M17.41 7.96l-1.37-1.37c-.4-.4-.92-.59-1.43-.59-.52 0-1.04.2-1.43.59L10.3 9.45l-7.72 7.72c-.78.78-.78 2.05 0 2.83L4 21.41c.39.39.9.59 1.41.59.51 0 1.02-.2 1.41-.59l7.78-7.78 2.81-2.81c.8-.78.8-2.07 0-2.86zM5.41 20L4 18.59l7.72-7.72 1.47 1.35L5.41 20z\"/>\n",
              "  </svg>\n",
              "      </button>\n",
              "      \n",
              "  <style>\n",
              "    .colab-df-container {\n",
              "      display:flex;\n",
              "      flex-wrap:wrap;\n",
              "      gap: 12px;\n",
              "    }\n",
              "\n",
              "    .colab-df-convert {\n",
              "      background-color: #E8F0FE;\n",
              "      border: none;\n",
              "      border-radius: 50%;\n",
              "      cursor: pointer;\n",
              "      display: none;\n",
              "      fill: #1967D2;\n",
              "      height: 32px;\n",
              "      padding: 0 0 0 0;\n",
              "      width: 32px;\n",
              "    }\n",
              "\n",
              "    .colab-df-convert:hover {\n",
              "      background-color: #E2EBFA;\n",
              "      box-shadow: 0px 1px 2px rgba(60, 64, 67, 0.3), 0px 1px 3px 1px rgba(60, 64, 67, 0.15);\n",
              "      fill: #174EA6;\n",
              "    }\n",
              "\n",
              "    [theme=dark] .colab-df-convert {\n",
              "      background-color: #3B4455;\n",
              "      fill: #D2E3FC;\n",
              "    }\n",
              "\n",
              "    [theme=dark] .colab-df-convert:hover {\n",
              "      background-color: #434B5C;\n",
              "      box-shadow: 0px 1px 3px 1px rgba(0, 0, 0, 0.15);\n",
              "      filter: drop-shadow(0px 1px 2px rgba(0, 0, 0, 0.3));\n",
              "      fill: #FFFFFF;\n",
              "    }\n",
              "  </style>\n",
              "\n",
              "      <script>\n",
              "        const buttonEl =\n",
              "          document.querySelector('#df-f376ef3c-677e-4e5a-b1b1-f42198dd40e2 button.colab-df-convert');\n",
              "        buttonEl.style.display =\n",
              "          google.colab.kernel.accessAllowed ? 'block' : 'none';\n",
              "\n",
              "        async function convertToInteractive(key) {\n",
              "          const element = document.querySelector('#df-f376ef3c-677e-4e5a-b1b1-f42198dd40e2');\n",
              "          const dataTable =\n",
              "            await google.colab.kernel.invokeFunction('convertToInteractive',\n",
              "                                                     [key], {});\n",
              "          if (!dataTable) return;\n",
              "\n",
              "          const docLinkHtml = 'Like what you see? Visit the ' +\n",
              "            '<a target=\"_blank\" href=https://colab.research.google.com/notebooks/data_table.ipynb>data table notebook</a>'\n",
              "            + ' to learn more about interactive tables.';\n",
              "          element.innerHTML = '';\n",
              "          dataTable['output_type'] = 'display_data';\n",
              "          await google.colab.output.renderOutput(dataTable, element);\n",
              "          const docLink = document.createElement('div');\n",
              "          docLink.innerHTML = docLinkHtml;\n",
              "          element.appendChild(docLink);\n",
              "        }\n",
              "      </script>\n",
              "    </div>\n",
              "  </div>\n",
              "  "
            ]
          },
          "metadata": {},
          "execution_count": 32
        }
      ]
    },
    {
      "cell_type": "code",
      "source": [
        "#Separando atributos das classes\n",
        "varIndependentes = base_iris.columns.difference(['Classe'], sort=False)"
      ],
      "metadata": {
        "id": "GeVSd6u2CoNQ"
      },
      "execution_count": 33,
      "outputs": []
    },
    {
      "cell_type": "code",
      "source": [
        "varIndependentes"
      ],
      "metadata": {
        "colab": {
          "base_uri": "https://localhost:8080/"
        },
        "id": "DsCEwhFfDLHX",
        "outputId": "1ca41a10-9eb5-4039-cb37-ed98f01c4b9e"
      },
      "execution_count": 34,
      "outputs": [
        {
          "output_type": "execute_result",
          "data": {
            "text/plain": [
              "Index(['alturaSepala', 'larguraSepala', 'alturaPetala', 'larguraPetala',\n",
              "       'areaSepala', 'areaPetala'],\n",
              "      dtype='object')"
            ]
          },
          "metadata": {},
          "execution_count": 34
        }
      ]
    },
    {
      "cell_type": "code",
      "source": [
        "#Criação dos atributos\n",
        "x = base_iris[varIndependentes].values"
      ],
      "metadata": {
        "id": "A9f_BOLIDUeZ"
      },
      "execution_count": 35,
      "outputs": []
    },
    {
      "cell_type": "code",
      "source": [
        "x\n"
      ],
      "metadata": {
        "colab": {
          "base_uri": "https://localhost:8080/"
        },
        "id": "iDT4ezcSDdCI",
        "outputId": "b1ced7c3-d2c8-4ba3-eac4-5bfd461a52f3"
      },
      "execution_count": 36,
      "outputs": [
        {
          "output_type": "execute_result",
          "data": {
            "text/plain": [
              "array([[ 5.1 ,  3.5 ,  1.4 ,  0.2 , 17.85,  0.28],\n",
              "       [ 4.9 ,  3.  ,  1.4 ,  0.2 , 14.7 ,  0.28],\n",
              "       [ 4.7 ,  3.2 ,  1.3 ,  0.2 , 15.04,  0.26],\n",
              "       [ 4.6 ,  3.1 ,  1.5 ,  0.2 , 14.26,  0.3 ],\n",
              "       [ 5.  ,  3.6 ,  1.4 ,  0.2 , 18.  ,  0.28],\n",
              "       [ 5.4 ,  3.9 ,  1.7 ,  0.4 , 21.06,  0.68],\n",
              "       [ 4.6 ,  3.4 ,  1.4 ,  0.3 , 15.64,  0.42],\n",
              "       [ 5.  ,  3.4 ,  1.5 ,  0.2 , 17.  ,  0.3 ],\n",
              "       [ 4.4 ,  2.9 ,  1.4 ,  0.2 , 12.76,  0.28],\n",
              "       [ 4.9 ,  3.1 ,  1.5 ,  0.1 , 15.19,  0.15],\n",
              "       [ 5.4 ,  3.7 ,  1.5 ,  0.2 , 19.98,  0.3 ],\n",
              "       [ 4.8 ,  3.4 ,  1.6 ,  0.2 , 16.32,  0.32],\n",
              "       [ 4.8 ,  3.  ,  1.4 ,  0.1 , 14.4 ,  0.14],\n",
              "       [ 4.3 ,  3.  ,  1.1 ,  0.1 , 12.9 ,  0.11],\n",
              "       [ 5.8 ,  4.  ,  1.2 ,  0.2 , 23.2 ,  0.24],\n",
              "       [ 5.7 ,  4.4 ,  1.5 ,  0.4 , 25.08,  0.6 ],\n",
              "       [ 5.4 ,  3.9 ,  1.3 ,  0.4 , 21.06,  0.52],\n",
              "       [ 5.1 ,  3.5 ,  1.4 ,  0.3 , 17.85,  0.42],\n",
              "       [ 5.7 ,  3.8 ,  1.7 ,  0.3 , 21.66,  0.51],\n",
              "       [ 5.1 ,  3.8 ,  1.5 ,  0.3 , 19.38,  0.45],\n",
              "       [ 5.4 ,  3.4 ,  1.7 ,  0.2 , 18.36,  0.34],\n",
              "       [ 5.1 ,  3.7 ,  1.5 ,  0.4 , 18.87,  0.6 ],\n",
              "       [ 4.6 ,  3.6 ,  1.  ,  0.2 , 16.56,  0.2 ],\n",
              "       [ 5.1 ,  3.3 ,  1.7 ,  0.5 , 16.83,  0.85],\n",
              "       [ 4.8 ,  3.4 ,  1.9 ,  0.2 , 16.32,  0.38],\n",
              "       [ 5.  ,  3.  ,  1.6 ,  0.2 , 15.  ,  0.32],\n",
              "       [ 5.  ,  3.4 ,  1.6 ,  0.4 , 17.  ,  0.64],\n",
              "       [ 5.2 ,  3.5 ,  1.5 ,  0.2 , 18.2 ,  0.3 ],\n",
              "       [ 5.2 ,  3.4 ,  1.4 ,  0.2 , 17.68,  0.28],\n",
              "       [ 4.7 ,  3.2 ,  1.6 ,  0.2 , 15.04,  0.32],\n",
              "       [ 4.8 ,  3.1 ,  1.6 ,  0.2 , 14.88,  0.32],\n",
              "       [ 5.4 ,  3.4 ,  1.5 ,  0.4 , 18.36,  0.6 ],\n",
              "       [ 5.2 ,  4.1 ,  1.5 ,  0.1 , 21.32,  0.15],\n",
              "       [ 5.5 ,  4.2 ,  1.4 ,  0.2 , 23.1 ,  0.28],\n",
              "       [ 4.9 ,  3.1 ,  1.5 ,  0.1 , 15.19,  0.15],\n",
              "       [ 5.  ,  3.2 ,  1.2 ,  0.2 , 16.  ,  0.24],\n",
              "       [ 5.5 ,  3.5 ,  1.3 ,  0.2 , 19.25,  0.26],\n",
              "       [ 4.9 ,  3.1 ,  1.5 ,  0.1 , 15.19,  0.15],\n",
              "       [ 4.4 ,  3.  ,  1.3 ,  0.2 , 13.2 ,  0.26],\n",
              "       [ 5.1 ,  3.4 ,  1.5 ,  0.2 , 17.34,  0.3 ],\n",
              "       [ 5.  ,  3.5 ,  1.3 ,  0.3 , 17.5 ,  0.39],\n",
              "       [ 4.5 ,  2.3 ,  1.3 ,  0.3 , 10.35,  0.39],\n",
              "       [ 4.4 ,  3.2 ,  1.3 ,  0.2 , 14.08,  0.26],\n",
              "       [ 5.  ,  3.5 ,  1.6 ,  0.6 , 17.5 ,  0.96],\n",
              "       [ 5.1 ,  3.8 ,  1.9 ,  0.4 , 19.38,  0.76],\n",
              "       [ 4.8 ,  3.  ,  1.4 ,  0.3 , 14.4 ,  0.42],\n",
              "       [ 5.1 ,  3.8 ,  1.6 ,  0.2 , 19.38,  0.32],\n",
              "       [ 4.6 ,  3.2 ,  1.4 ,  0.2 , 14.72,  0.28],\n",
              "       [ 5.3 ,  3.7 ,  1.5 ,  0.2 , 19.61,  0.3 ],\n",
              "       [ 5.  ,  3.3 ,  1.4 ,  0.2 , 16.5 ,  0.28],\n",
              "       [ 7.  ,  3.2 ,  4.7 ,  1.4 , 22.4 ,  6.58],\n",
              "       [ 6.4 ,  3.2 ,  4.5 ,  1.5 , 20.48,  6.75],\n",
              "       [ 6.9 ,  3.1 ,  4.9 ,  1.5 , 21.39,  7.35],\n",
              "       [ 5.5 ,  2.3 ,  4.  ,  1.3 , 12.65,  5.2 ],\n",
              "       [ 6.5 ,  2.8 ,  4.6 ,  1.5 , 18.2 ,  6.9 ],\n",
              "       [ 5.7 ,  2.8 ,  4.5 ,  1.3 , 15.96,  5.85],\n",
              "       [ 6.3 ,  3.3 ,  4.7 ,  1.6 , 20.79,  7.52],\n",
              "       [ 4.9 ,  2.4 ,  3.3 ,  1.  , 11.76,  3.3 ],\n",
              "       [ 6.6 ,  2.9 ,  4.6 ,  1.3 , 19.14,  5.98],\n",
              "       [ 5.2 ,  2.7 ,  3.9 ,  1.4 , 14.04,  5.46],\n",
              "       [ 5.  ,  2.  ,  3.5 ,  1.  , 10.  ,  3.5 ],\n",
              "       [ 5.9 ,  3.  ,  4.2 ,  1.5 , 17.7 ,  6.3 ],\n",
              "       [ 6.  ,  2.2 ,  4.  ,  1.  , 13.2 ,  4.  ],\n",
              "       [ 6.1 ,  2.9 ,  4.7 ,  1.4 , 17.69,  6.58],\n",
              "       [ 5.6 ,  2.9 ,  3.6 ,  1.3 , 16.24,  4.68],\n",
              "       [ 6.7 ,  3.1 ,  4.4 ,  1.4 , 20.77,  6.16],\n",
              "       [ 5.6 ,  3.  ,  4.5 ,  1.5 , 16.8 ,  6.75],\n",
              "       [ 5.8 ,  2.7 ,  4.1 ,  1.  , 15.66,  4.1 ],\n",
              "       [ 6.2 ,  2.2 ,  4.5 ,  1.5 , 13.64,  6.75],\n",
              "       [ 5.6 ,  2.5 ,  3.9 ,  1.1 , 14.  ,  4.29],\n",
              "       [ 5.9 ,  3.2 ,  4.8 ,  1.8 , 18.88,  8.64],\n",
              "       [ 6.1 ,  2.8 ,  4.  ,  1.3 , 17.08,  5.2 ],\n",
              "       [ 6.3 ,  2.5 ,  4.9 ,  1.5 , 15.75,  7.35],\n",
              "       [ 6.1 ,  2.8 ,  4.7 ,  1.2 , 17.08,  5.64],\n",
              "       [ 6.4 ,  2.9 ,  4.3 ,  1.3 , 18.56,  5.59],\n",
              "       [ 6.6 ,  3.  ,  4.4 ,  1.4 , 19.8 ,  6.16],\n",
              "       [ 6.8 ,  2.8 ,  4.8 ,  1.4 , 19.04,  6.72],\n",
              "       [ 6.7 ,  3.  ,  5.  ,  1.7 , 20.1 ,  8.5 ],\n",
              "       [ 6.  ,  2.9 ,  4.5 ,  1.5 , 17.4 ,  6.75],\n",
              "       [ 5.7 ,  2.6 ,  3.5 ,  1.  , 14.82,  3.5 ],\n",
              "       [ 5.5 ,  2.4 ,  3.8 ,  1.1 , 13.2 ,  4.18],\n",
              "       [ 5.5 ,  2.4 ,  3.7 ,  1.  , 13.2 ,  3.7 ],\n",
              "       [ 5.8 ,  2.7 ,  3.9 ,  1.2 , 15.66,  4.68],\n",
              "       [ 6.  ,  2.7 ,  5.1 ,  1.6 , 16.2 ,  8.16],\n",
              "       [ 5.4 ,  3.  ,  4.5 ,  1.5 , 16.2 ,  6.75],\n",
              "       [ 6.  ,  3.4 ,  4.5 ,  1.6 , 20.4 ,  7.2 ],\n",
              "       [ 6.7 ,  3.1 ,  4.7 ,  1.5 , 20.77,  7.05],\n",
              "       [ 6.3 ,  2.3 ,  4.4 ,  1.3 , 14.49,  5.72],\n",
              "       [ 5.6 ,  3.  ,  4.1 ,  1.3 , 16.8 ,  5.33],\n",
              "       [ 5.5 ,  2.5 ,  4.  ,  1.3 , 13.75,  5.2 ],\n",
              "       [ 5.5 ,  2.6 ,  4.4 ,  1.2 , 14.3 ,  5.28],\n",
              "       [ 6.1 ,  3.  ,  4.6 ,  1.4 , 18.3 ,  6.44],\n",
              "       [ 5.8 ,  2.6 ,  4.  ,  1.2 , 15.08,  4.8 ],\n",
              "       [ 5.  ,  2.3 ,  3.3 ,  1.  , 11.5 ,  3.3 ],\n",
              "       [ 5.6 ,  2.7 ,  4.2 ,  1.3 , 15.12,  5.46],\n",
              "       [ 5.7 ,  3.  ,  4.2 ,  1.2 , 17.1 ,  5.04],\n",
              "       [ 5.7 ,  2.9 ,  4.2 ,  1.3 , 16.53,  5.46],\n",
              "       [ 6.2 ,  2.9 ,  4.3 ,  1.3 , 17.98,  5.59],\n",
              "       [ 5.1 ,  2.5 ,  3.  ,  1.1 , 12.75,  3.3 ],\n",
              "       [ 5.7 ,  2.8 ,  4.1 ,  1.3 , 15.96,  5.33],\n",
              "       [ 6.3 ,  3.3 ,  6.  ,  2.5 , 20.79, 15.  ],\n",
              "       [ 5.8 ,  2.7 ,  5.1 ,  1.9 , 15.66,  9.69],\n",
              "       [ 7.1 ,  3.  ,  5.9 ,  2.1 , 21.3 , 12.39],\n",
              "       [ 6.3 ,  2.9 ,  5.6 ,  1.8 , 18.27, 10.08],\n",
              "       [ 6.5 ,  3.  ,  5.8 ,  2.2 , 19.5 , 12.76],\n",
              "       [ 7.6 ,  3.  ,  6.6 ,  2.1 , 22.8 , 13.86],\n",
              "       [ 4.9 ,  2.5 ,  4.5 ,  1.7 , 12.25,  7.65],\n",
              "       [ 7.3 ,  2.9 ,  6.3 ,  1.8 , 21.17, 11.34],\n",
              "       [ 6.7 ,  2.5 ,  5.8 ,  1.8 , 16.75, 10.44],\n",
              "       [ 7.2 ,  3.6 ,  6.1 ,  2.5 , 25.92, 15.25],\n",
              "       [ 6.5 ,  3.2 ,  5.1 ,  2.  , 20.8 , 10.2 ],\n",
              "       [ 6.4 ,  2.7 ,  5.3 ,  1.9 , 17.28, 10.07],\n",
              "       [ 6.8 ,  3.  ,  5.5 ,  2.1 , 20.4 , 11.55],\n",
              "       [ 5.7 ,  2.5 ,  5.  ,  2.  , 14.25, 10.  ],\n",
              "       [ 5.8 ,  2.8 ,  5.1 ,  2.4 , 16.24, 12.24],\n",
              "       [ 6.4 ,  3.2 ,  5.3 ,  2.3 , 20.48, 12.19],\n",
              "       [ 6.5 ,  3.  ,  5.5 ,  1.8 , 19.5 ,  9.9 ],\n",
              "       [ 7.7 ,  3.8 ,  6.7 ,  2.2 , 29.26, 14.74],\n",
              "       [ 7.7 ,  2.6 ,  6.9 ,  2.3 , 20.02, 15.87],\n",
              "       [ 6.  ,  2.2 ,  5.  ,  1.5 , 13.2 ,  7.5 ],\n",
              "       [ 6.9 ,  3.2 ,  5.7 ,  2.3 , 22.08, 13.11],\n",
              "       [ 5.6 ,  2.8 ,  4.9 ,  2.  , 15.68,  9.8 ],\n",
              "       [ 7.7 ,  2.8 ,  6.7 ,  2.  , 21.56, 13.4 ],\n",
              "       [ 6.3 ,  2.7 ,  4.9 ,  1.8 , 17.01,  8.82],\n",
              "       [ 6.7 ,  3.3 ,  5.7 ,  2.1 , 22.11, 11.97],\n",
              "       [ 7.2 ,  3.2 ,  6.  ,  1.8 , 23.04, 10.8 ],\n",
              "       [ 6.2 ,  2.8 ,  4.8 ,  1.8 , 17.36,  8.64],\n",
              "       [ 6.1 ,  3.  ,  4.9 ,  1.8 , 18.3 ,  8.82],\n",
              "       [ 6.4 ,  2.8 ,  5.6 ,  2.1 , 17.92, 11.76],\n",
              "       [ 7.2 ,  3.  ,  5.8 ,  1.6 , 21.6 ,  9.28],\n",
              "       [ 7.4 ,  2.8 ,  6.1 ,  1.9 , 20.72, 11.59],\n",
              "       [ 7.9 ,  3.8 ,  6.4 ,  2.  , 30.02, 12.8 ],\n",
              "       [ 6.4 ,  2.8 ,  5.6 ,  2.2 , 17.92, 12.32],\n",
              "       [ 6.3 ,  2.8 ,  5.1 ,  1.5 , 17.64,  7.65],\n",
              "       [ 6.1 ,  2.6 ,  5.6 ,  1.4 , 15.86,  7.84],\n",
              "       [ 7.7 ,  3.  ,  6.1 ,  2.3 , 23.1 , 14.03],\n",
              "       [ 6.3 ,  3.4 ,  5.6 ,  2.4 , 21.42, 13.44],\n",
              "       [ 6.4 ,  3.1 ,  5.5 ,  1.8 , 19.84,  9.9 ],\n",
              "       [ 6.  ,  3.  ,  4.8 ,  1.8 , 18.  ,  8.64],\n",
              "       [ 6.9 ,  3.1 ,  5.4 ,  2.1 , 21.39, 11.34],\n",
              "       [ 6.7 ,  3.1 ,  5.6 ,  2.4 , 20.77, 13.44],\n",
              "       [ 6.9 ,  3.1 ,  5.1 ,  2.3 , 21.39, 11.73],\n",
              "       [ 5.8 ,  2.7 ,  5.1 ,  1.9 , 15.66,  9.69],\n",
              "       [ 6.8 ,  3.2 ,  5.9 ,  2.3 , 21.76, 13.57],\n",
              "       [ 6.7 ,  3.3 ,  5.7 ,  2.5 , 22.11, 14.25],\n",
              "       [ 6.7 ,  3.  ,  5.2 ,  2.3 , 20.1 , 11.96],\n",
              "       [ 6.3 ,  2.5 ,  5.  ,  1.9 , 15.75,  9.5 ],\n",
              "       [ 6.5 ,  3.  ,  5.2 ,  2.  , 19.5 , 10.4 ],\n",
              "       [ 6.2 ,  3.4 ,  5.4 ,  2.3 , 21.08, 12.42],\n",
              "       [ 5.9 ,  3.  ,  5.1 ,  1.8 , 17.7 ,  9.18]])"
            ]
          },
          "metadata": {},
          "execution_count": 36
        }
      ]
    },
    {
      "cell_type": "code",
      "source": [
        "#Criação da Classe\n",
        "y = base_iris['Classe'].values"
      ],
      "metadata": {
        "id": "QM6SmvXEDfxh"
      },
      "execution_count": 37,
      "outputs": []
    },
    {
      "cell_type": "code",
      "source": [
        "y"
      ],
      "metadata": {
        "colab": {
          "base_uri": "https://localhost:8080/"
        },
        "id": "rew9iDz2Doi6",
        "outputId": "7ed1fe85-917b-4563-e017-cd2ed036a5e1"
      },
      "execution_count": 38,
      "outputs": [
        {
          "output_type": "execute_result",
          "data": {
            "text/plain": [
              "array(['Iris-setosa', 'Iris-setosa', 'Iris-setosa', 'Iris-setosa',\n",
              "       'Iris-setosa', 'Iris-setosa', 'Iris-setosa', 'Iris-setosa',\n",
              "       'Iris-setosa', 'Iris-setosa', 'Iris-setosa', 'Iris-setosa',\n",
              "       'Iris-setosa', 'Iris-setosa', 'Iris-setosa', 'Iris-setosa',\n",
              "       'Iris-setosa', 'Iris-setosa', 'Iris-setosa', 'Iris-setosa',\n",
              "       'Iris-setosa', 'Iris-setosa', 'Iris-setosa', 'Iris-setosa',\n",
              "       'Iris-setosa', 'Iris-setosa', 'Iris-setosa', 'Iris-setosa',\n",
              "       'Iris-setosa', 'Iris-setosa', 'Iris-setosa', 'Iris-setosa',\n",
              "       'Iris-setosa', 'Iris-setosa', 'Iris-setosa', 'Iris-setosa',\n",
              "       'Iris-setosa', 'Iris-setosa', 'Iris-setosa', 'Iris-setosa',\n",
              "       'Iris-setosa', 'Iris-setosa', 'Iris-setosa', 'Iris-setosa',\n",
              "       'Iris-setosa', 'Iris-setosa', 'Iris-setosa', 'Iris-setosa',\n",
              "       'Iris-setosa', 'Iris-setosa', 'Iris-versicolor', 'Iris-versicolor',\n",
              "       'Iris-versicolor', 'Iris-versicolor', 'Iris-versicolor',\n",
              "       'Iris-versicolor', 'Iris-versicolor', 'Iris-versicolor',\n",
              "       'Iris-versicolor', 'Iris-versicolor', 'Iris-versicolor',\n",
              "       'Iris-versicolor', 'Iris-versicolor', 'Iris-versicolor',\n",
              "       'Iris-versicolor', 'Iris-versicolor', 'Iris-versicolor',\n",
              "       'Iris-versicolor', 'Iris-versicolor', 'Iris-versicolor',\n",
              "       'Iris-versicolor', 'Iris-versicolor', 'Iris-versicolor',\n",
              "       'Iris-versicolor', 'Iris-versicolor', 'Iris-versicolor',\n",
              "       'Iris-versicolor', 'Iris-versicolor', 'Iris-versicolor',\n",
              "       'Iris-versicolor', 'Iris-versicolor', 'Iris-versicolor',\n",
              "       'Iris-versicolor', 'Iris-versicolor', 'Iris-versicolor',\n",
              "       'Iris-versicolor', 'Iris-versicolor', 'Iris-versicolor',\n",
              "       'Iris-versicolor', 'Iris-versicolor', 'Iris-versicolor',\n",
              "       'Iris-versicolor', 'Iris-versicolor', 'Iris-versicolor',\n",
              "       'Iris-versicolor', 'Iris-versicolor', 'Iris-versicolor',\n",
              "       'Iris-versicolor', 'Iris-versicolor', 'Iris-versicolor',\n",
              "       'Iris-virginica', 'Iris-virginica', 'Iris-virginica',\n",
              "       'Iris-virginica', 'Iris-virginica', 'Iris-virginica',\n",
              "       'Iris-virginica', 'Iris-virginica', 'Iris-virginica',\n",
              "       'Iris-virginica', 'Iris-virginica', 'Iris-virginica',\n",
              "       'Iris-virginica', 'Iris-virginica', 'Iris-virginica',\n",
              "       'Iris-virginica', 'Iris-virginica', 'Iris-virginica',\n",
              "       'Iris-virginica', 'Iris-virginica', 'Iris-virginica',\n",
              "       'Iris-virginica', 'Iris-virginica', 'Iris-virginica',\n",
              "       'Iris-virginica', 'Iris-virginica', 'Iris-virginica',\n",
              "       'Iris-virginica', 'Iris-virginica', 'Iris-virginica',\n",
              "       'Iris-virginica', 'Iris-virginica', 'Iris-virginica',\n",
              "       'Iris-virginica', 'Iris-virginica', 'Iris-virginica',\n",
              "       'Iris-virginica', 'Iris-virginica', 'Iris-virginica',\n",
              "       'Iris-virginica', 'Iris-virginica', 'Iris-virginica',\n",
              "       'Iris-virginica', 'Iris-virginica', 'Iris-virginica',\n",
              "       'Iris-virginica', 'Iris-virginica', 'Iris-virginica',\n",
              "       'Iris-virginica', 'Iris-virginica'], dtype=object)"
            ]
          },
          "metadata": {},
          "execution_count": 38
        }
      ]
    },
    {
      "cell_type": "code",
      "source": [
        "from sklearn.tree import DecisionTreeClassifier "
      ],
      "metadata": {
        "id": "T-JY6H6ID77l"
      },
      "execution_count": 40,
      "outputs": []
    },
    {
      "cell_type": "code",
      "source": [
        "#Max depth é o maximo de ramos de um nó na árvore, a intenção é ter o menor número de ramos possível\n",
        "#Random state está definindo a ordem de leitura dos dados (não é necessário)\n",
        "#Objeto para construir a árvore de decisão\n",
        "objClassificador = DecisionTreeClassifier(random_state=10,criterion='gini', max_depth=2)"
      ],
      "metadata": {
        "id": "hdFSchjjFS9a"
      },
      "execution_count": 43,
      "outputs": []
    },
    {
      "cell_type": "code",
      "source": [
        "#Gerou a árvore de decisão\n",
        "objClassificador.fit(x,y)"
      ],
      "metadata": {
        "colab": {
          "base_uri": "https://localhost:8080/"
        },
        "id": "w4jz6G_FHAiw",
        "outputId": "17d62205-628d-4425-dd41-30b33613f82a"
      },
      "execution_count": 44,
      "outputs": [
        {
          "output_type": "execute_result",
          "data": {
            "text/plain": [
              "DecisionTreeClassifier(max_depth=2, random_state=10)"
            ]
          },
          "metadata": {},
          "execution_count": 44
        }
      ]
    },
    {
      "cell_type": "code",
      "source": [
        "from IPython.display import Image  \n",
        "from sklearn import tree\n",
        "import pydotplus\n",
        "\n",
        "# Create DOT data\n",
        "dot_data = tree.export_graphviz(objClassificador, out_file=None, \n",
        "                                feature_names=varIndependentes,  \n",
        "                                class_names=base_iris.Classe.unique())\n",
        "\n",
        "# Draw graph\n",
        "graph = pydotplus.graph_from_dot_data(dot_data)  \n",
        "\n",
        "# Show graph\n",
        "Image(graph.create_png())"
      ],
      "metadata": {
        "colab": {
          "base_uri": "https://localhost:8080/",
          "height": 436
        },
        "id": "ytziKi6gHecl",
        "outputId": "9fc6889d-2432-4a13-d4f9-f7bd0a455e27"
      },
      "execution_count": 48,
      "outputs": [
        {
          "output_type": "execute_result",
          "data": {
            "text/plain": [
              "<IPython.core.display.Image object>"
            ],
            "image/png": "[encoded data removed]"
          },
          "metadata": {},
          "execution_count": 48
        }
      ]
    }
  ]
}